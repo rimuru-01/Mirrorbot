{
  "nbformat": 4,
  "nbformat_minor": 5,
  "metadata": {
    "selected_hardware_size": "small",
    "noteable": {
      "last_transaction_id": "faa08146-fca1-4305-8ac0-db0965f411a7"
    }
  },
  "cells": [
    {
      "id": "9049fdc8",
      "cell_type": "code",
      "metadata": {
        "noteable": {
          "output_collection_id": "fc7d8f35-a2bd-4335-bed4-97b689606301"
        },
        "ExecuteTime": {
          "end_time": "2023-05-26T18:35:02.884502+00:00",
          "start_time": "2023-05-26T18:34:51.875309+00:00"
        }
      },
      "execution_count": null,
      "source": "!python3 update.py && python3 -m bot",
      "outputs": []
    }
  ]
}