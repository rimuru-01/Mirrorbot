{
  "nbformat": 4,
  "nbformat_minor": 5,
  "metadata": {
    "selected_hardware_size": "small",
    "noteable": {
      "last_transaction_id": "6c49e9aa-5e1e-4d9f-93e6-d48fe50dd01c"
    }
  },
  "cells": [
    {
      "id": "9049fdc8",
      "cell_type": "code",
      "metadata": {
        "noteable": {
          "output_collection_id": "32be9f56-bf01-4d43-b6ea-d38fb1f3779f"
        },
        "ExecuteTime": {
          "end_time": "2023-05-26T18:29:27.735657+00:00",
          "start_time": "2023-05-26T18:29:25.698710+00:00"
        }
      },
      "execution_count": null,
      "source": "!python3 update.py && python3 -m bot",
      "outputs": []
    }
  ]
}